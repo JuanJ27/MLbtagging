{
 "cells": [
  {
   "cell_type": "code",
   "execution_count": 1,
   "metadata": {},
   "outputs": [],
   "source": [
    "#include <TString.h>\n",
    "#include \"TTree.h\"\n",
    "#include \"TFile.h\"\n",
    "#include \"TChain.h\"\n",
    "#include \"TLorentzVector.h\"\n",
    "#include <vector>\n",
    "#include \"iostream\"\n",
    "#include \"fstream\"\n",
    "using namespace std;"
   ]
  },
  {
   "cell_type": "code",
   "execution_count": 2,
   "metadata": {},
   "outputs": [
    {
     "name": "stderr",
     "output_type": "stream",
     "text": [
      "Warning in <TClass::Init>: no dictionary for class HepMCEvent is available\n",
      "Warning in <TClass::Init>: no dictionary for class Event is available\n",
      "Warning in <TClass::Init>: no dictionary for class Weight is available\n",
      "Warning in <TClass::Init>: no dictionary for class GenParticle is available\n",
      "Warning in <TClass::Init>: no dictionary for class SortableObject is available\n",
      "Warning in <TClass::Init>: no dictionary for class Track is available\n",
      "Warning in <TClass::Init>: no dictionary for class Tower is available\n",
      "Warning in <TClass::Init>: no dictionary for class Jet is available\n",
      "Warning in <TClass::Init>: no dictionary for class MissingET is available\n",
      "Warning in <TClass::Init>: no dictionary for class Electron is available\n",
      "Warning in <TClass::Init>: no dictionary for class Photon is available\n",
      "Warning in <TClass::Init>: no dictionary for class Muon is available\n",
      "Warning in <TClass::Init>: no dictionary for class ScalarHT is available\n",
      "Info in <TTreePlayer::MakeClass>: Files: Classtag1.h and Classtag1.C generated from TTree: Delphes\n"
     ]
    }
   ],
   "source": [
    "TChain *ch = new TChain(\"Delphes\", \"\");\n",
    "ch->Add(\"../tag_1_delphes_events.root\");\n",
    "TTree *Delphes = (TTree*)ch;\n",
    "Delphes->MakeClass(\"Classtag1\"); // Crea la clase de lectura de la TTree"
   ]
  },
  {
   "cell_type": "code",
   "execution_count": 3,
   "metadata": {},
   "outputs": [],
   "source": [
    "#include \"Classtag1.h\""
   ]
  },
  {
   "cell_type": "code",
   "execution_count": 4,
   "metadata": {},
   "outputs": [
    {
     "name": "stderr",
     "output_type": "stream",
     "text": [
      "[runStaticInitializersOnce]: Failed to materialize symbols: { (main, { _GLOBAL__sub_I_cling_module_377, $.cling-module-377.__inits.0, _ZN12__cling_N52216__cling_Un1Qu331EPv, _ZN12__cling_N5221tE, __cxx_global_var_initcling_module_377_, _ZN12__cling_N5228nentriesE, __orc_init_func.cling-module-377 }) }\n",
      "IncrementalExecutor::executeFunction: symbol '_ZN9Classtag1D1Ev' unresolved while linking [cling interface function]!\n",
      "You are probably missing the definition of Classtag1::~Classtag1()\n",
      "Maybe you need to load the corresponding shared library?\n",
      "IncrementalExecutor::executeFunction: symbol '_ZN9Classtag1C1EP5TTree' unresolved while linking [cling interface function]!\n",
      "You are probably missing the definition of Classtag1::Classtag1(TTree*)\n",
      "Maybe you need to load the corresponding shared library?\n"
     ]
    }
   ],
   "source": [
    "Classtag1 t(Delphes); // Evalúa la clase de lectura de la TTree\n",
    "Long64_t nentries = 30000;//t.fChain->GetEntries(); // Obtiene el número de entradas en la TTree "
   ]
  },
  {
   "cell_type": "code",
   "execution_count": 5,
   "metadata": {},
   "outputs": [
    {
     "name": "stderr",
     "output_type": "stream",
     "text": [
      "[runStaticInitializersOnce]: Failed to materialize symbols: { (main, { __orc_init_func.cling-module-377 }) }\n"
     ]
    }
   ],
   "source": [
    "TH1F *hJetsPerEvent = new TH1F(\"hJetsPerEvent\", \"Numero de Jets por Evento\", 100, 0, 6);"
   ]
  }
 ],
 "metadata": {
  "kernelspec": {
   "display_name": "ROOT C++",
   "language": "c++",
   "name": "root"
  },
  "language_info": {
   "codemirror_mode": "text/x-c++src",
   "file_extension": ".C",
   "mimetype": " text/x-c++src",
   "name": "c++"
  }
 },
 "nbformat": 4,
 "nbformat_minor": 2
}
