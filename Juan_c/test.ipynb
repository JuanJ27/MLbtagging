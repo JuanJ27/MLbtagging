{
 "cells": [
  {
   "cell_type": "code",
   "execution_count": 6,
   "metadata": {},
   "outputs": [
    {
     "data": {
      "image/png": "[encoded data removed]",
      "text/plain": [
       "<IPython.core.display.Image object>"
      ]
     },
     "metadata": {},
     "output_type": "display_data"
    },
    {
     "name": "stderr",
     "output_type": "stream",
     "text": [
      "Warning in <TROOT::Append>: Replacing existing TH1: h (Potential memory leak).\n"
     ]
    }
   ],
   "source": [
    "TCanvas c;\n",
    "TH1F h(\"h\",\"ROOT Histogram;X;Y\",64,-4,4);\n",
    "h.FillRandom(\"gaus\");\n",
    "h.Draw();\n",
    "c.Draw();"
   ]
  },
  {
   "cell_type": "code",
   "execution_count": 2,
   "metadata": {},
   "outputs": [],
   "source": [
    "#include <TString.h>\n",
    "#include \"TTree.h\"\n",
    "#include \"TFile.h\"\n",
    "#include \"TChain.h\"\n",
    "#include \"TLorentzVector.h\"\n",
    "#include <vector>\n",
    "#include \"iostream\"\n",
    "#include \"fstream\"\n",
    "using namespace std;"
   ]
  },
  {
   "cell_type": "code",
   "execution_count": 3,
   "metadata": {},
   "outputs": [
    {
     "name": "stderr",
     "output_type": "stream",
     "text": [
      "Warning in <TClass::Init>: no dictionary for class HepMCEvent is available\n",
      "Warning in <TClass::Init>: no dictionary for class Event is available\n",
      "Warning in <TClass::Init>: no dictionary for class Weight is available\n",
      "Warning in <TClass::Init>: no dictionary for class GenParticle is available\n",
      "Warning in <TClass::Init>: no dictionary for class SortableObject is available\n",
      "Warning in <TClass::Init>: no dictionary for class Track is available\n",
      "Warning in <TClass::Init>: no dictionary for class Tower is available\n",
      "Warning in <TClass::Init>: no dictionary for class Jet is available\n",
      "Warning in <TClass::Init>: no dictionary for class MissingET is available\n",
      "Warning in <TClass::Init>: no dictionary for class Electron is available\n",
      "Warning in <TClass::Init>: no dictionary for class Photon is available\n",
      "Warning in <TClass::Init>: no dictionary for class Muon is available\n",
      "Warning in <TClass::Init>: no dictionary for class ScalarHT is available\n",
      "Info in <TTreePlayer::MakeClass>: Files: MyClass1.h and MyClass1.C generated from TTree: Delphes\n"
     ]
    }
   ],
   "source": [
    "TChain *ch = new TChain(\"Delphes\", \"\");\n",
    "ch->Add(\"../tag_1_delphes_events.root\");\n",
    "TTree *Delphes = (TTree*)ch;\n",
    "Delphes->MakeClass(\"MyClass1\"); // Crea la clase de lectura de la TTree"
   ]
  },
  {
   "cell_type": "code",
   "execution_count": 4,
   "metadata": {},
   "outputs": [],
   "source": [
    "#include \"MyClass1.C\""
   ]
  },
  {
   "cell_type": "code",
   "execution_count": 5,
   "metadata": {},
   "outputs": [],
   "source": [
    "MyClass1 t(Delphes); // Evalúa la clase de lectura de la TTree\n",
    "Long64_t nentries = 30000;//t.fChain->GetEntries(); // Obtiene el número de entradas en la TTree "
   ]
  },
  {
   "cell_type": "code",
   "execution_count": 6,
   "metadata": {},
   "outputs": [],
   "source": [
    "TH1F *hJetsPerEvent = new TH1F(\"hJetsPerEvent\", \"Numero de Jets por Evento\", 100, 0, 6);"
   ]
  },
  {
   "cell_type": "code",
   "execution_count": 7,
   "metadata": {},
   "outputs": [],
   "source": [
    "TH1F *hJetPT[4];\n",
    "for (int i = 0; i < 4; i++) {\n",
    "hJetPT[i] = new TH1F(Form(\"hJetPT%d\", i), Form(\"pT del Jet %d\", i+1), 100, 0, 150); // Ajusta los límites según sea necesario\n",
    "\n",
    "// Asigna un color único a cada histograma\n",
    "if(i == 0) hJetPT[i]->SetLineColor(kRed);\n",
    "else if(i == 1) hJetPT[i]->SetLineColor(kBlue);\n",
    "else if(i == 2) hJetPT[i]->SetLineColor(kGreen);\n",
    "else if(i == 3) hJetPT[i]->SetLineColor(kBlack);\n",
    "\n",
    "// Opcional: Establece el estilo de línea\n",
    "//hJetPT[i]->SetLineStyle(i + 1); // Diferentes estilos de línea para cada histograma\n",
    "\n",
    "// Opcional: Establece el grosor de la línea\n",
    "hJetPT[i]->SetLineWidth(2);\n",
    "}"
   ]
  },
  {
   "cell_type": "code",
   "execution_count": 8,
   "metadata": {},
   "outputs": [],
   "source": [
    "// Eta de los jets\n",
    "TH1F *hJetEta[4];\n",
    "for (int i = 0; i < 4; i++) {\n",
    "    hJetEta[i] = new TH1F(Form(\"hJetEta%d\", i), Form(\"Eta del Jet %d\", i+1), 100, -5, 5); // Ajusta los límites según sea necesario\n",
    "\n",
    "// Asigna un color único a cada histograma\n",
    "if(i == 0) hJetEta[i]->SetLineColor(kRed);\n",
    "else if(i == 1) hJetEta[i]->SetLineColor(kBlue);\n",
    "else if(i == 2) hJetEta[i]->SetLineColor(kGreen);\n",
    "else if(i == 3) hJetEta[i]->SetLineColor(kBlack);\n",
    "\n",
    "// Opcional: Establece el estilo de línea\n",
    "hJetEta[i]->SetLineStyle(i + 1); // Diferentes estilos de línea para cada histograma\n",
    "\n",
    "// Opcional: Establece el grosor de la línea\n",
    "hJetEta[i]->SetLineWidth(2);\n",
    "}"
   ]
  },
  {
   "cell_type": "code",
   "execution_count": 9,
   "metadata": {},
   "outputs": [],
   "source": [
    "// Phi de los jets\n",
    "TH1F *hJetPhi[4];\n",
    "for (int i = 0; i < 4; i++) {\n",
    "    hJetPhi[i] = new TH1F(Form(\"hJetPhi%d\", i), Form(\"Phi del Jet %d\", i+1), 100, -4, 4); // Ajusta los límites según sea necesario\n",
    "    // Asigna un color único a cada histograma\n",
    "if(i == 0) hJetPhi[i]->SetLineColor(kRed);\n",
    "else if(i == 1) hJetPhi[i]->SetLineColor(kBlue);\n",
    "else if(i == 2) hJetPhi[i]->SetLineColor(kGreen);\n",
    "else if(i == 3) hJetPhi[i]->SetLineColor(kBlack);\n",
    "\n",
    "// Opcional: Establece el estilo de línea\n",
    "hJetPhi[i]->SetLineStyle(i + 1); // Diferentes estilos de línea para cada histograma\n",
    "\n",
    "// Opcional: Establece el grosor de la línea\n",
    "hJetPhi[i]->SetLineWidth(2);\n",
    "}"
   ]
  },
  {
   "cell_type": "code",
   "execution_count": 10,
   "metadata": {},
   "outputs": [],
   "source": [
    "// Número de neutras cargadas por jet\n",
    "TH1F *hChargedParticles[4];\n",
    "for (int i = 0; i < 4; i++) {\n",
    "    hChargedParticles[i] = new TH1F(Form(\"hChargedParticles%d\", i), Form(\"Numero de Partículas Cargadas del Jet %d\", i+1), 100, -0.5, 3.5);\n",
    "// Asigna un color único a cada histograma\n",
    "if(i == 0) hChargedParticles[i]->SetLineColor(kRed);\n",
    "else if(i == 1) hChargedParticles[i]->SetLineColor(kBlue);\n",
    "else if(i == 2) hChargedParticles[i]->SetLineColor(kGreen);\n",
    "else if(i == 3) hChargedParticles[i]->SetLineColor(kBlack);\n",
    "\n",
    "hChargedParticles[i]->SetLineStyle(i + 1); // Diferentes estilos de línea para cada histograma\n",
    "hChargedParticles[i]->SetLineWidth(2);\n",
    "}"
   ]
  },
  {
   "cell_type": "code",
   "execution_count": 11,
   "metadata": {},
   "outputs": [],
   "source": [
    "// Número de neutras neutras por jet\n",
    "TH1F *hNeutralsParticles[4];\n",
    "for (int i = 0; i < 4; i++) {\n",
    "    hNeutralsParticles[i] = new TH1F(Form(\"hNeutralsParticles%d\", i), Form(\"Numero de Partículas Neutras del Jet %d\", i+1), 100, -0.5, 3.5);\n",
    "// Asigna un color único a cada histograma\n",
    "if(i == 0) hNeutralsParticles[i]->SetLineColor(kRed);\n",
    "else if(i == 1) hNeutralsParticles[i]->SetLineColor(kBlue);\n",
    "else if(i == 2) hNeutralsParticles[i]->SetLineColor(kGreen);\n",
    "else if(i == 3) hNeutralsParticles[i]->SetLineColor(kBlack);\n",
    "\n",
    "hNeutralsParticles[i]->SetLineStyle(i + 1); // Diferentes estilos de línea para cada histograma\n",
    "hNeutralsParticles[i]->SetLineWidth(2);\n",
    "}"
   ]
  },
  {
   "cell_type": "code",
   "execution_count": 58,
   "metadata": {},
   "outputs": [
    {
     "name": "stderr",
     "output_type": "stream",
     "text": [
      "Warning in <TROOT::Append>: Replacing existing TH1: hFractionPTCharged0 (Potential memory leak).\n",
      "Warning in <TROOT::Append>: Replacing existing TH1: hFractionPTCharged1 (Potential memory leak).\n",
      "Warning in <TROOT::Append>: Replacing existing TH1: hFractionPTCharged2 (Potential memory leak).\n",
      "Warning in <TROOT::Append>: Replacing existing TH1: hFractionPTCharged3 (Potential memory leak).\n"
     ]
    }
   ],
   "source": [
    "TH1F *hFractionPTCharged[4]; // Array de histogramas para la fracción de pT cargado por jet\n",
    "\n",
    "for (int i = 0; i < 4; i++) {\n",
    "    hFractionPTCharged[i] = new TH1F(Form(\"hFractionPTCharged%d\", i), Form(\"Fracción de pT Cargado del Jet %d\", i+1), 100, 0.0, 1.0);\n",
    "}"
   ]
  },
  {
   "cell_type": "code",
   "execution_count": 86,
   "metadata": {},
   "outputs": [],
   "source": [
    "TH1F *hFractionPTNeutral[4]; // Array de histogramas para la fracción de pT neutro por jet\n",
    "\n",
    "for (int i = 0; i < 4; i++) {\n",
    "    hFractionPTNeutral[i] = new TH1F(Form(\"hFractionPTNeutral%d\", i), Form(\"Fracción de pT Cargado del Jet %d\", i+1), 100, 0.0, 1.0);\n",
    "}"
   ]
  },
  {
   "cell_type": "code",
   "execution_count": 12,
   "metadata": {},
   "outputs": [
    {
     "name": "stdout",
     "output_type": "stream",
     "text": [
      " Entries : 30000\n"
     ]
    }
   ],
   "source": [
    "cout << \" Entries : \" << nentries << endl;"
   ]
  },
  {
   "cell_type": "code",
   "execution_count": 87,
   "metadata": {},
   "outputs": [
    {
     "name": "stdout",
     "output_type": "stream",
     "text": [
      "0%-10%-20%-30%-40%-50%-60%-70%-80%-90%-100%\n"
     ]
    }
   ],
   "source": [
    "Int_t nTen = nentries / 10; // Para imprimir el porcentaje de avance\n",
    "Int_t k = 0;\n",
    "Int_t nbytes = 0, nb = 0;\n",
    "\n",
    "vector<TLorentzVector> jets; // Vector para almacenar los jets\n",
    "vector<TLorentzVector> particles; // Vector para almacenar las particles\n",
    "vector<TLorentzVector> fractionPTCharged; // Vector para almacenar la fracción de pT cargado\n",
    "for (Long64_t jentry = 0; jentry < nentries; jentry++)\n",
    "{\n",
    "\n",
    "    jets.clear();\n",
    "    particles.clear();\n",
    "    fractionPTCharged.clear();\n",
    "\n",
    "    Long64_t ientry = t.LoadTree(jentry); \n",
    "    if (ientry < 0)                        // Para imprimir el porcentaje de avance\n",
    "        break;\n",
    "    nb = t.fChain->GetEntry(jentry);\n",
    "    nbytes += nb;\n",
    "\n",
    "    if (jentry % nTen == 0)\n",
    "        cout << 10 * (jentry / nTen) << \"%-\" << flush;\n",
    "    if (jentry == nentries - 1)\n",
    "        cout << \"100%\"<< endl;\n",
    "\n",
    "    if (t.Jet_size == 0) continue;\n",
    "\n",
    "    // Escribe en el archivo CSV de los jets\n",
    "    for (Int_t i = 0; i < t.Jet_size; i++)\n",
    "    {\n",
    "        TLorentzVector jetVector;\n",
    "        jetVector.SetPtEtaPhiM(t.Jet_PT[i], t.Jet_Eta[i], t.Jet_Phi[i], t.Jet_Mass[i]);\n",
    "        jets.push_back(jetVector);\n",
    "\n",
    "    }\n",
    "    \n",
    "    // Escribe en el archivo CSV de las partículas\n",
    "    for (Int_t i = 0; i < t.Particle_size; i++)\n",
    "    {\n",
    "        // Filling particles vector\n",
    "        TLorentzVector particleVector;\n",
    "        particleVector.SetPtEtaPhiM(t.Particle_PT[i], t.Particle_Eta[i], t.Particle_Phi[i], t.Particle_Mass[i]); // Filling particles vector\n",
    "        particles.push_back(particleVector);\n",
    "    }\n",
    "\n",
    "\n",
    "    vector<vector<Double_t>> deltaRValues(jets.size());\n",
    "    for (size_t i = 0; i < jets.size(); ++i) {\n",
    "    //deltaRValues[i].reserve(particles.size()); // Para optimizar la asignación de memoria\n",
    "\n",
    "    for (size_t j = 0; j < particles.size(); ++j) {\n",
    "        Double_t deltaR = jets[i].DeltaR(particles[j]);\n",
    "        if (deltaR < 0.4){\n",
    "        deltaRValues[i].push_back(deltaR); // Aquí debería ser seguro hacer push_back\n",
    "    }\n",
    "    }\n",
    "\n",
    "}\n",
    "    // Histograma de jets por evento\n",
    "    hJetsPerEvent->Fill(t.Jet_size);\n",
    "\n",
    "    // Histograma de pT de los jets\n",
    "    for (int i = 0; i < std::min(4, t.Jet_size); i++) {\n",
    "    hJetPT[i]->Fill(t.Jet_PT[i]);\n",
    "    }\n",
    "    // Histograma de Eta de los jets\n",
    "    for (int i = 0; i < std::min(4, t.Jet_size); i++) {\n",
    "    hJetEta[i]->Fill(t.Jet_Eta[i]);\n",
    "    }\n",
    "    // Histograma de Phi de los jets\n",
    "    for (int i = 0; i < std::min(4, t.Jet_size); i++) {\n",
    "    hJetPhi[i]->Fill(t.Jet_Phi[i]);\n",
    "    }\n",
    "\n",
    "    // Histograma de Número de partículas cargadas por jet\n",
    "    for (int i = 0; i < std::min(4, t.Jet_size); i++) {\n",
    "    hChargedParticles[i]->Fill(t.Jet_NCharged[i]);\n",
    "    }\n",
    "\n",
    "    // Histograma de Número de partículas neutras por jet\n",
    "    for (int i = 0; i < std::min(4, t.Jet_size); i++) {\n",
    "    hNeutralsParticles[i]->Fill(t.Jet_NNeutrals[i]);\n",
    "    }\n",
    "\n",
    "    // Histograma de  Fracción de pT cargado del jet\n",
    "    for (int i = 0; i < std::min(4, t.Jet_size); i++) {\n",
    "    hFractionPTCharged[i]->Fill(t.Jet_ChargedEnergyFraction[i]);\n",
    "    }\n",
    "\n",
    "    // Histograma de  Fracción de pT cargado del jet\n",
    "    for (int i = 0; i < std::min(4, t.Jet_size); i++) {\n",
    "    hFractionPTNeutral[i]->Fill(t.Jet_NeutralEnergyFraction[i]);\n",
    "    }\n",
    "}"
   ]
  },
  {
   "cell_type": "code",
   "execution_count": 14,
   "metadata": {},
   "outputs": [
    {
     "data": {
      "image/png": "[encoded data removed]",
      "text/plain": [
       "<IPython.core.display.Image object>"
      ]
     },
     "metadata": {},
     "output_type": "display_data"
    }
   ],
   "source": [
    "// Dibuja el histograma\n",
    "// Dibujar histograma de jets por evento\n",
    "TCanvas *cJets = new TCanvas(\"cJets\", \"Jets por evento\", 600, 400);\n",
    "hJetsPerEvent->Draw();\n",
    "TLegend *legendevnt = new TLegend(0.7, 0.8, 0.9, 0.9);\n",
    "legendevnt->SetHeader(\"Jets por evento\", \"C\");\n",
    "legendevnt->AddEntry(hJetsPerEvent, \"Numero de Jets por Evento\", \"l\");\n",
    "legendevnt->Draw();\n",
    "cJets->Draw();"
   ]
  },
  {
   "cell_type": "code",
   "execution_count": 15,
   "metadata": {},
   "outputs": [
    {
     "data": {
      "image/png": "[encoded data removed]",
      "text/plain": [
       "<IPython.core.display.Image object>"
      ]
     },
     "metadata": {},
     "output_type": "display_data"
    }
   ],
   "source": [
    "// Dibujar histograma de pT de los jets\n",
    "TCanvas *c1 = new TCanvas(\"c1\", \"pT de los Jets\", 600, 400);\n",
    "gStyle->SetOptStat(0); // Desactiva la caja de estadísticas para todos los histogramas\n",
    "hJetPT[0]->Draw(); // Dibuja el primer histograma\n",
    "for (int i = 1; i < 4; i++) {\n",
    "    hJetPT[i]->Draw(\"SAME\"); // Superpone los siguientes histogramas\n",
    "}\n",
    "TLegend *legend = new TLegend(0.7, 0.7, 0.9, 0.9); // Ajusta la posición según sea necesario\n",
    "legend->SetHeader(\"Jets\", \"C\"); // Opcional: título de la leyenda\n",
    "for (int i = 0; i < 4; i++) {\n",
    "    legend->AddEntry(hJetPT[i], Form(\"Jet %d\", i+1), \"l\");\n",
    "}\n",
    "legend->Draw();"
   ]
  },
  {
   "cell_type": "code",
   "execution_count": 17,
   "metadata": {},
   "outputs": [
    {
     "data": {
      "image/png": "[encoded data removed]",
      "text/plain": [
       "<IPython.core.display.Image object>"
      ]
     },
     "metadata": {},
     "output_type": "display_data"
    },
    {
     "name": "stderr",
     "output_type": "stream",
     "text": [
      "Warning in <TCanvas::Constructor>: Deleting canvas with same name: cEta\n"
     ]
    }
   ],
   "source": [
    "TCanvas *cEta = new TCanvas(\"cEta\", \"Eta de los Jets\", 600, 400);\n",
    "gStyle->SetOptStat(0); // Desactiva la caja de estadísticas para todos los histogramas\n",
    "hJetEta[0]->Draw(); // Dibuja el primer histograma\n",
    "for (int i = 1; i < 4; i++) {\n",
    "    hJetEta[i]->Draw(\"SAME\"); // Superpone los siguientes histogramas\n",
    "}\n",
    "TLegend *legendEta = new TLegend(0.7, 0.7, 0.9, 0.9); // Ajusta la posición según sea necesario\n",
    "legendEta->SetHeader(\"Jets\", \"C\"); // Opcional: título de la leyenda\n",
    "for (int i = 0; i < 4; i++) {\n",
    "    legendEta->AddEntry(hJetEta[i], Form(\"Jet %d\", i+1), \"l\");\n",
    "}\n",
    "legendEta->Draw();"
   ]
  },
  {
   "cell_type": "code",
   "execution_count": 18,
   "metadata": {},
   "outputs": [
    {
     "data": {
      "image/png": "[encoded data removed]",
      "text/plain": [
       "<IPython.core.display.Image object>"
      ]
     },
     "metadata": {},
     "output_type": "display_data"
    }
   ],
   "source": [
    "TCanvas *cPhi = new TCanvas(\"cPhi\", \"Phi de los Jets\", 600, 400);\n",
    "gStyle->SetOptStat(0); // Desactiva la caja de estadísticas para todos los histogramas\n",
    "hJetPhi[0]->Draw(); // Dibuja el primer histograma\n",
    "for (int i = 1; i < 4; i++) {\n",
    "    hJetPhi[i]->Draw(\"SAME\"); // Superpone los siguientes histogramas\n",
    "}\n",
    "TLegend *legendPhi = new TLegend(0.7, 0.7, 0.9, 0.9); // Ajusta la posición según sea necesario\n",
    "legendPhi->SetHeader(\"Jets\", \"C\"); // Opcional: título de la leyenda\n",
    "for (int i = 0; i < 4; i++) {\n",
    "    legendPhi->AddEntry(hJetPhi[i], Form(\"Jet %d\", i+1), \"l\");\n",
    "}\n",
    "legendPhi->Draw();"
   ]
  },
  {
   "cell_type": "code",
   "execution_count": 19,
   "metadata": {},
   "outputs": [
    {
     "data": {
      "image/png": "[encoded data removed]",
      "text/plain": [
       "<IPython.core.display.Image object>"
      ]
     },
     "metadata": {},
     "output_type": "display_data"
    }
   ],
   "source": [
    "TCanvas *cNCharged = new TCanvas(\"cNCharged\", \"Numero de partículas cargadas por jet\", 600, 400);\n",
    "gStyle->SetOptStat(0); // Desactiva la caja de estadísticas para todos los histogramas\n",
    "hChargedParticles[0]->Draw(); // Dibuja el primer histograma\n",
    "for (int i = 1; i < 4; i++) {\n",
    "    hChargedParticles[i]->Draw(\"SAME\"); // Superpone los siguientes histogramas\n",
    "}\n",
    "TLegend *legendNCharged = new TLegend(0.7, 0.7, 0.9, 0.9); // Ajusta la posición según sea necesario\n",
    "legendNCharged->SetHeader(\"Jets\", \"C\"); // Opcional: título de la leyenda\n",
    "for (int i = 0; i < 4; i++) {\n",
    "    legendNCharged->AddEntry(hChargedParticles[i], Form(\"Jet %d\", i+1), \"l\");\n",
    "}\n",
    "legendNCharged->Draw();"
   ]
  },
  {
   "cell_type": "code",
   "execution_count": 24,
   "metadata": {},
   "outputs": [
    {
     "data": {
      "image/png": "[encoded data removed]",
      "text/plain": [
       "<IPython.core.display.Image object>"
      ]
     },
     "metadata": {},
     "output_type": "display_data"
    },
    {
     "name": "stderr",
     "output_type": "stream",
     "text": [
      "Warning in <TCanvas::Constructor>: Deleting canvas with same name: cNNeutrals\n"
     ]
    }
   ],
   "source": [
    "TCanvas *cNNeutrals = new TCanvas(\"cNNeutrals\", \"Numero de partículas neutras por jet\", 600, 400);\n",
    "gStyle->SetOptStat(0); // Desactiva la caja de estadísticas para todos los histogramas\n",
    "hNeutralsParticles[0]->Draw(); // Dibuja el primer histograma\n",
    "for (int i = 1; i < 4; i++) {\n",
    "    hNeutralsParticles[i]->Draw(\"SAME\"); // Superpone los siguientes histogramas\n",
    "}\n",
    "TLegend *legendNNeutrals = new TLegend(0.7, 0.7, 0.9, 0.9); // Ajusta la posición según sea necesario\n",
    "legendNNeutrals->SetHeader(\"Jets\", \"C\"); // Opcional: título de la leyenda\n",
    "for (int i = 0; i < 4; i++) {\n",
    "    legendNNeutrals->AddEntry(hNeutralsParticles[i], Form(\"Jet %d\", i+1), \"l\");\n",
    "}\n",
    "legendNNeutrals->Draw();"
   ]
  },
  {
   "cell_type": "code",
   "execution_count": 89,
   "metadata": {},
   "outputs": [
    {
     "data": {
      "image/png": "[encoded data removed]",
      "text/plain": [
       "<IPython.core.display.Image object>"
      ]
     },
     "metadata": {},
     "output_type": "display_data"
    }
   ],
   "source": [
    "TCanvas *cChargedFrac = new TCanvas(\"cCharged\", \"Numero de partículas neutras por jet\", 600, 400);\n",
    "gStyle->SetOptStat(0); // Desactiva la caja de estadísticas para todos los histogramas\n",
    "hFractionPTCharged[0]->Draw(); // Dibuja el primer histograma\n",
    "for (int i = 1; i < 4; i++) {\n",
    "    hFractionPTCharged[i]->Draw(\"SAME\"); // Superpone los siguientes histogramas\n",
    "}\n",
    "TLegend *legendChardeFrac = new TLegend(0.7, 0.7, 0.9, 0.9); // Ajusta la posición según sea necesario\n",
    "legendChardeFrac->SetHeader(\"Jets\", \"C\"); // Opcional: título de la leyenda\n",
    "for (int i = 0; i < 4; i++) {\n",
    "    legendChardeFrac->AddEntry(hFractionPTCharged[i], Form(\"Jet %d\", i+1), \"l\");\n",
    "}\n",
    "legendChardeFrac->Draw();"
   ]
  },
  {
   "cell_type": "code",
   "execution_count": 94,
   "metadata": {},
   "outputs": [
    {
     "data": {
      "image/png": "[encoded data removed]",
      "text/plain": [
       "<IPython.core.display.Image object>"
      ]
     },
     "metadata": {},
     "output_type": "display_data"
    },
    {
     "name": "stderr",
     "output_type": "stream",
     "text": [
      "Warning in <TCanvas::Constructor>: Deleting canvas with same name: cNeutrals\n"
     ]
    }
   ],
   "source": [
    "TCanvas *cNeutralFrac = new TCanvas(\"cNeutrals\", \"Numero de partículas neutras por jet\", 600, 400);\n",
    "gStyle->SetOptStat(0); // Desactiva la caja de estadísticas para todos los histogramas\n",
    "hFractionPTNeutral[0]->Draw(); // Dibuja el primer histograma\n",
    "for (int i = 1; i < 4; i++) {\n",
    "    hFractionPTNeutral[i]->Draw(\"SAME\"); // Superpone los siguientes histogramas\n",
    "}\n",
    "TLegend *legendChardeFrac = new TLegend(0.7, 0.7, 0.9, 0.9); // Ajusta la posición según sea necesario\n",
    "legendChardeFrac->SetHeader(\"Jets\", \"C\"); // Opcional: título de la leyenda\n",
    "for (int i = 0; i < 4; i++) {\n",
    "    legendChardeFrac->AddEntry(hFractionPTNeutral[i], Form(\"Jet %d\", i+1), \"l\");\n",
    "}\n",
    "legendChardeFrac->Draw();"
   ]
  },
  {
   "cell_type": "code",
   "execution_count": 21,
   "metadata": {},
   "outputs": [
    {
     "name": "stderr",
     "output_type": "stream",
     "text": [
      "Info in <TCanvas::Print>: png file /home/juan27/MLbtagging/Tomas_code/plots/JetsPerEvent.png has been created\n",
      "Info in <TCanvas::Print>: png file /home/juan27/MLbtagging/Tomas_code/plots/PTjets.png has been created\n",
      "Info in <TCanvas::Print>: png file /home/juan27/MLbtagging/Tomas_code/plots/Etajets.png has been created\n",
      "Info in <TCanvas::Print>: png file /home/juan27/MLbtagging/Tomas_code/plots/Phijets.png has been created\n",
      "Info in <TCanvas::Print>: png file /home/juan27/MLbtagging/Tomas_code/plots/NCharged.png has been created\n",
      "Info in <TCanvas::Print>: png file /home/juan27/MLbtagging/Tomas_code/plots/NNeutrals.png has been created\n"
     ]
    }
   ],
   "source": [
    "// Guardar los histogramas en un archivo\n",
    "cJets->Print(\"/home/juan27/MLbtagging/Tomas_code/plots/JetsPerEvent.png\");\n",
    "c1->Print(\"/home/juan27/MLbtagging/Tomas_code/plots/PTjets.png\");\n",
    "cEta->Print(\"/home/juan27/MLbtagging/Tomas_code/plots/Etajets.png\");\n",
    "cPhi->Print(\"/home/juan27/MLbtagging/Tomas_code/plots/Phijets.png\");\n",
    "cNCharged->Print(\"/home/juan27/MLbtagging/Tomas_code/plots/NCharged.png\");\n",
    "cNNeutrals->Print(\"/home/juan27/MLbtagging/Tomas_code/plots/NNeutrals.png\");"
   ]
  },
  {
   "cell_type": "code",
   "execution_count": 22,
   "metadata": {},
   "outputs": [
    {
     "name": "stdout",
     "output_type": "stream",
     "text": [
      "El archivo se escribió correctamente\n",
      "Fin del programa\n"
     ]
    }
   ],
   "source": [
    "cout << \"El archivo se escribió correctamente\" << endl;\n",
    "cout << \"Fin del programa\" << endl;"
   ]
  }
 ],
 "metadata": {
  "kernelspec": {
   "display_name": "ROOT C++",
   "language": "c++",
   "name": "root"
  },
  "language_info": {
   "codemirror_mode": "text/x-c++src",
   "file_extension": ".C",
   "mimetype": " text/x-c++src",
   "name": "c++"
  }
 },
 "nbformat": 4,
 "nbformat_minor": 2
}
